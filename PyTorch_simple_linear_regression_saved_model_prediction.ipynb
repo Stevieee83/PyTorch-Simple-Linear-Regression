{
 "cells": [
  {
   "cell_type": "markdown",
   "id": "b1ee4357",
   "metadata": {},
   "source": [
    "# PyTorch Simple Linear Regression Saved Model Prediction\n",
    "\n",
    "The Jupyter Notebook loads the saved PyTorch model. After the model is loaded into the notebook, a prediction can be made for a person's salary by inputting the years of experience into the model."
   ]
  },
  {
   "cell_type": "markdown",
   "id": "9720a34e",
   "metadata": {},
   "source": [
    "# 1. PyTorch Simple Linear Regression Object"
   ]
  },
  {
   "cell_type": "code",
   "execution_count": 1,
   "id": "9f3f9dbc",
   "metadata": {},
   "outputs": [],
   "source": [
    "# PyTorch autograd library import\n",
    "from torch.autograd import Variable\n",
    "import torch\n",
    "\n",
    "# Simple PyTorch Linear Regression model object\n",
    "class LinearRegression(torch.nn.Module):\n",
    "    \n",
    "    # Constructs the simple linear regression model object\n",
    "    def __init__(self, inputShape, outputShape):\n",
    "        super(LinearRegression, self).__init__()\n",
    "        \n",
    "        # PyTorch 1D linear layer as found in one layer of a neural network\n",
    "        self.linear = torch.nn.Linear(inputShape, outputShape)\n",
    "\n",
    "    # Python method to feed the data through the algorithm in the forward pass direction\n",
    "    def forward(self, x):\n",
    "        \n",
    "        # Out variable to store the Linear Regression output prediction\n",
    "        out = self.linear(x)\n",
    "        \n",
    "        # Returns the output prediction from the forward method\n",
    "        return out"
   ]
  },
  {
   "cell_type": "markdown",
   "id": "149a1103",
   "metadata": {},
   "source": [
    "# 2. Load the Saved Simple Linear Regression Weights File to the Jupyter Notebook"
   ]
  },
  {
   "cell_type": "code",
   "execution_count": 2,
   "id": "0829a96f",
   "metadata": {},
   "outputs": [
    {
     "name": "stdout",
     "output_type": "stream",
     "text": [
      "Model loaded from file path directory.\n"
     ]
    }
   ],
   "source": [
    "# Load the model from an output file directory saved_LR_model\n",
    "model = torch.load('./saved_LR_model/LR_model')\n",
    "\n",
    "# Prints out the model weights have been loaded from the file directory on the screen\n",
    "print('Model loaded from file path directory.')"
   ]
  },
  {
   "cell_type": "markdown",
   "id": "ae2892bf",
   "metadata": {},
   "source": [
    "# 3. Pythohn Make Prediction Method"
   ]
  },
  {
   "cell_type": "code",
   "execution_count": 3,
   "id": "6f429c20",
   "metadata": {},
   "outputs": [],
   "source": [
    "# Python method to make predictions on test examples\n",
    "def make_prediction(X):\n",
    "\n",
    "    # Runs the Linear Regression model in inference mode\n",
    "    # No gradients are required for inference mode at test time\n",
    "    with torch.no_grad():\n",
    "    \n",
    "        # Linear regression model prediction on the test data\n",
    "        prediction = model(X)\n",
    "    \n",
    "        # Prints the test data out to the screen\n",
    "        return prediction.item()"
   ]
  },
  {
   "cell_type": "markdown",
   "id": "16df861f",
   "metadata": {},
   "source": [
    "# 4. Python List with the Employee Years of Experience as Input"
   ]
  },
  {
   "cell_type": "code",
   "execution_count": 4,
   "id": "e7d3da9d",
   "metadata": {},
   "outputs": [
    {
     "data": {
      "text/plain": [
       "[2.3]"
      ]
     },
     "execution_count": 4,
     "metadata": {},
     "output_type": "execute_result"
    }
   ],
   "source": [
    "# Python list to store a new value for the model to predict on\n",
    "X = [2.3]\n",
    "\n",
    "X"
   ]
  },
  {
   "cell_type": "code",
   "execution_count": 5,
   "id": "19ae7971",
   "metadata": {},
   "outputs": [
    {
     "data": {
      "text/plain": [
       "array([2.3], dtype=float32)"
      ]
     },
     "execution_count": 5,
     "metadata": {},
     "output_type": "execute_result"
    }
   ],
   "source": [
    "import numpy as np\n",
    "\n",
    "# Convert the feature vector to a NumPy array\n",
    "# in preparation for converting to PyTorch tensors\n",
    "X_pred = np.array(X, dtype=np.float32)\n",
    "\n",
    "X_pred"
   ]
  },
  {
   "cell_type": "code",
   "execution_count": 6,
   "id": "3ca8edb4",
   "metadata": {},
   "outputs": [],
   "source": [
    "# Convert the feature vector to a PyTorch tensor\n",
    "X_tensor = torch.from_numpy(X_pred)"
   ]
  },
  {
   "cell_type": "markdown",
   "id": "8dcd7933",
   "metadata": {},
   "source": [
    "# 5. Make Prediciton on an Employee Salary"
   ]
  },
  {
   "cell_type": "code",
   "execution_count": 7,
   "id": "c46157db",
   "metadata": {},
   "outputs": [
    {
     "name": "stdout",
     "output_type": "stream",
     "text": [
      "Estimated salary is £36537.76\n"
     ]
    }
   ],
   "source": [
    "# Call the Python make_prediction method to make a prediction\n",
    "# on the X_tensor PyTorch tensor\n",
    "pred = make_prediction(X_tensor)\n",
    "\n",
    "# Prints out the predicted salary for the years of experience\n",
    "# of the employee\n",
    "print(f'Estimated salary is £{pred:.2f}')"
   ]
  },
  {
   "cell_type": "markdown",
   "id": "8707cbb0",
   "metadata": {},
   "source": [
    "# 6 Python Variables Used in the Jupyter Notebook"
   ]
  },
  {
   "cell_type": "code",
   "execution_count": 8,
   "id": "e5c864d6",
   "metadata": {},
   "outputs": [
    {
     "name": "stdout",
     "output_type": "stream",
     "text": [
      "Variable           Type                Data/Info\n",
      "------------------------------------------------\n",
      "LinearRegression   type                <class '__main__.LinearRegression'>\n",
      "Variable           VariableMeta        <class 'torch.autograd.variable.Variable'>\n",
      "X                  list                n=1\n",
      "X_pred             ndarray             1: 1 elems, type `float32`, 4 bytes\n",
      "X_tensor           Tensor              tensor([2.3000])\n",
      "make_prediction    function            <function make_prediction at 0x000001C3A752B4C0>\n",
      "model              LinearRegression    LinearRegression(\\n  (lin<...>features=1, bias=True)\\n)\n",
      "np                 module              <module 'numpy' from 'C:\\<...>ges\\\\numpy\\\\__init__.py'>\n",
      "pred               float               36537.76171875\n",
      "torch              module              <module 'torch' from 'C:\\<...>ges\\\\torch\\\\__init__.py'>\n"
     ]
    }
   ],
   "source": [
    "# Python variables used in the Jupyter Notebook\n",
    "%whos"
   ]
  },
  {
   "cell_type": "code",
   "execution_count": null,
   "id": "3e1509e2",
   "metadata": {},
   "outputs": [],
   "source": []
  }
 ],
 "metadata": {
  "kernelspec": {
   "display_name": "Python 3 (ipykernel)",
   "language": "python",
   "name": "python3"
  },
  "language_info": {
   "codemirror_mode": {
    "name": "ipython",
    "version": 3
   },
   "file_extension": ".py",
   "mimetype": "text/x-python",
   "name": "python",
   "nbconvert_exporter": "python",
   "pygments_lexer": "ipython3",
   "version": "3.9.13"
  }
 },
 "nbformat": 4,
 "nbformat_minor": 5
}
